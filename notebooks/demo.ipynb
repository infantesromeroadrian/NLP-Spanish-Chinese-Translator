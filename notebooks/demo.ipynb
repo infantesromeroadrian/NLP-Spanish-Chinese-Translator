{
 "cells": [
  {
   "cell_type": "code",
   "execution_count": 10,
   "id": "initial_id",
   "metadata": {
    "collapsed": true,
    "ExecuteTime": {
     "end_time": "2023-12-18T21:38:05.321991Z",
     "start_time": "2023-12-18T21:38:05.312145Z"
    }
   },
   "outputs": [],
   "source": [
    "import pyaudio\n",
    "import wave\n",
    "\n",
    "class AudioCapturer:\n",
    "    def __init__(self, format=pyaudio.paInt16, channels=1, rate=44100, frames_per_buffer=1024):\n",
    "        self.format = format\n",
    "        self.channels = channels\n",
    "        self.rate = rate\n",
    "        self.frames_per_buffer = frames_per_buffer\n",
    "        self.audio = pyaudio.PyAudio()\n",
    "\n",
    "    def record(self, duration=5, output_filename=\"output.wav\"):\n",
    "        stream = self.audio.open(format=self.format, channels=self.channels,\n",
    "                                 rate=self.rate, input=True,\n",
    "                                 frames_per_buffer=self.frames_per_buffer)\n",
    "        frames = []\n",
    "\n",
    "        for _ in range(0, int(self.rate / self.frames_per_buffer * duration)):\n",
    "            data = stream.read(self.frames_per_buffer)\n",
    "            frames.append(data)\n",
    "\n",
    "        stream.stop_stream()\n",
    "        stream.close()\n",
    "        self.audio.terminate()\n",
    "\n",
    "        with wave.open(output_filename, 'wb') as wf:\n",
    "            wf.setnchannels(self.channels)\n",
    "            wf.setsampwidth(self.audio.get_sample_size(self.format))\n",
    "            wf.setframerate(self.rate)\n",
    "            wf.writeframes(b''.join(frames))"
   ]
  },
  {
   "cell_type": "code",
   "execution_count": 11,
   "outputs": [],
   "source": [
    "# Uses:\n",
    "capturer = AudioCapturer()\n",
    "capturer.record(duration=10, output_filename=\"test_audio.wav\")"
   ],
   "metadata": {
    "collapsed": false,
    "ExecuteTime": {
     "end_time": "2023-12-18T21:38:17.041351Z",
     "start_time": "2023-12-18T21:38:06.779058Z"
    }
   },
   "id": "65f191577fb6faf8"
  },
  {
   "cell_type": "code",
   "execution_count": 1,
   "outputs": [],
   "source": [
    "import speech_recognition as sr\n",
    "\n",
    "class SpeechTranscriber:\n",
    "    def __init__(self):\n",
    "        self.recognizer = sr.Recognizer()\n",
    "\n",
    "    def transcribe(self, audio_file):\n",
    "        try:\n",
    "            with sr.AudioFile(audio_file) as source:\n",
    "                audio_data = self.recognizer.record(source)\n",
    "                text = self.recognizer.recognize_google(audio_data)\n",
    "                return text\n",
    "        except sr.UnknownValueError:\n",
    "            # Error cuando el reconocimiento no entiende lo que se dijo\n",
    "            return \"Error: No se pudo entender el audio.\"\n",
    "        except sr.RequestError as e:\n",
    "            # Error de red o al conectarse al servicio de reconocimiento\n",
    "            return f\"Error de solicitud: {e}\""
   ],
   "metadata": {
    "collapsed": false,
    "ExecuteTime": {
     "end_time": "2023-12-18T21:54:12.655548Z",
     "start_time": "2023-12-18T21:54:12.528794Z"
    }
   },
   "id": "e812e434da698c1"
  },
  {
   "cell_type": "code",
   "execution_count": 13,
   "outputs": [
    {
     "name": "stdout",
     "output_type": "stream",
     "text": [
      "esto es una audio de Puebla para el translator\n"
     ]
    }
   ],
   "source": [
    "# Uses:\n",
    "transcriber = SpeechTranscriber()\n",
    "text = transcriber.transcribe(\"test_audio.wav\")\n",
    "print(text)"
   ],
   "metadata": {
    "collapsed": false,
    "ExecuteTime": {
     "end_time": "2023-12-18T21:39:02.929312Z",
     "start_time": "2023-12-18T21:38:59.266243Z"
    }
   },
   "id": "2dfcf8ad4be7278f"
  },
  {
   "cell_type": "code",
   "execution_count": 8,
   "outputs": [],
   "source": [
    "from transformers import MarianMTModel, MarianTokenizer\n",
    "\n",
    "class HuggingFaceTranslator:\n",
    "    def __init__(self, model_name=\"Helsinki-NLP/opus-tatoeba-es-zh\"):\n",
    "        self.tokenizer = MarianTokenizer.from_pretrained(model_name)\n",
    "        self.model = MarianMTModel.from_pretrained(model_name)\n",
    "\n",
    "    def translate(self, text):\n",
    "        try:\n",
    "            inputs = self.tokenizer(text, return_tensors=\"pt\", padding=True, truncation=True, max_length=512)\n",
    "            translated = self.model.generate(**inputs)\n",
    "            return self.tokenizer.decode(translated[0], skip_special_tokens=True)\n",
    "        except Exception as e:\n",
    "            return f\"Error de traducción: {e}\""
   ],
   "metadata": {
    "collapsed": false,
    "ExecuteTime": {
     "end_time": "2023-12-18T22:27:14.606123Z",
     "start_time": "2023-12-18T22:27:14.601938Z"
    }
   },
   "id": "3ed2620082a50dc7"
  },
  {
   "cell_type": "code",
   "execution_count": 9,
   "outputs": [
    {
     "data": {
      "text/plain": "tokenizer_config.json:   0%|          | 0.00/230 [00:00<?, ?B/s]",
      "application/vnd.jupyter.widget-view+json": {
       "version_major": 2,
       "version_minor": 0,
       "model_id": "b79e7d819bb14754967351089965e1f0"
      }
     },
     "metadata": {},
     "output_type": "display_data"
    },
    {
     "data": {
      "text/plain": "source.spm:   0%|          | 0.00/835k [00:00<?, ?B/s]",
      "application/vnd.jupyter.widget-view+json": {
       "version_major": 2,
       "version_minor": 0,
       "model_id": "2442256c05be4879a9b44df03cbc5a60"
      }
     },
     "metadata": {},
     "output_type": "display_data"
    },
    {
     "data": {
      "text/plain": "target.spm:   0%|          | 0.00/809k [00:00<?, ?B/s]",
      "application/vnd.jupyter.widget-view+json": {
       "version_major": 2,
       "version_minor": 0,
       "model_id": "5dcf908a46844e9cb8644210c2600046"
      }
     },
     "metadata": {},
     "output_type": "display_data"
    },
    {
     "data": {
      "text/plain": "vocab.json:   0%|          | 0.00/1.81M [00:00<?, ?B/s]",
      "application/vnd.jupyter.widget-view+json": {
       "version_major": 2,
       "version_minor": 0,
       "model_id": "05338788435a4f95833f0df2be2bda0d"
      }
     },
     "metadata": {},
     "output_type": "display_data"
    },
    {
     "data": {
      "text/plain": "special_tokens_map.json:   0%|          | 0.00/65.0 [00:00<?, ?B/s]",
      "application/vnd.jupyter.widget-view+json": {
       "version_major": 2,
       "version_minor": 0,
       "model_id": "46a6b7616cc941e5836fe09a14e751c9"
      }
     },
     "metadata": {},
     "output_type": "display_data"
    },
    {
     "data": {
      "text/plain": "config.json:   0%|          | 0.00/1.45k [00:00<?, ?B/s]",
      "application/vnd.jupyter.widget-view+json": {
       "version_major": 2,
       "version_minor": 0,
       "model_id": "7894e6c0b4e44a349bb91d7771e324af"
      }
     },
     "metadata": {},
     "output_type": "display_data"
    },
    {
     "data": {
      "text/plain": "pytorch_model.bin:   0%|          | 0.00/155M [00:00<?, ?B/s]",
      "application/vnd.jupyter.widget-view+json": {
       "version_major": 2,
       "version_minor": 0,
       "model_id": "9300e2872bd04cd2b18a83cce65a8338"
      }
     },
     "metadata": {},
     "output_type": "display_data"
    },
    {
     "data": {
      "text/plain": "generation_config.json:   0%|          | 0.00/293 [00:00<?, ?B/s]",
      "application/vnd.jupyter.widget-view+json": {
       "version_major": 2,
       "version_minor": 0,
       "model_id": "9ca9adb062284b668d8892adb54b4e69"
      }
     },
     "metadata": {},
     "output_type": "display_data"
    },
    {
     "name": "stdout",
     "output_type": "stream",
     "text": [
      "嗨,你好吗?\n"
     ]
    }
   ],
   "source": [
    "# Uses:\n",
    "translator = HuggingFaceTranslator()\n",
    "translated_text = translator.translate(\"Hola, ¿cómo estás?\")\n",
    "print(translated_text)"
   ],
   "metadata": {
    "collapsed": false,
    "ExecuteTime": {
     "end_time": "2023-12-18T22:27:26.374695Z",
     "start_time": "2023-12-18T22:27:15.636333Z"
    }
   },
   "id": "4838f04d4bc776f6"
  }
 ],
 "metadata": {
  "kernelspec": {
   "display_name": "Python 3",
   "language": "python",
   "name": "python3"
  },
  "language_info": {
   "codemirror_mode": {
    "name": "ipython",
    "version": 2
   },
   "file_extension": ".py",
   "mimetype": "text/x-python",
   "name": "python",
   "nbconvert_exporter": "python",
   "pygments_lexer": "ipython2",
   "version": "2.7.6"
  }
 },
 "nbformat": 4,
 "nbformat_minor": 5
}
